{
 "cells": [
  {
   "cell_type": "markdown",
   "metadata": {},
   "source": [
    "使用するライブラリのインポート"
   ]
  },
  {
   "cell_type": "code",
   "execution_count": 4,
   "metadata": {},
   "outputs": [],
   "source": [
    "import numpy as np\n",
    "import matplotlib.pyplot as plt\n",
    "import scipy.linalg as linalg\n",
    "import scipy.sparse as sp\n",
    "import scipy.sparse.linalg as spla\n",
    "import math\n",
    "from numpy.random import rand"
   ]
  },
  {
   "cell_type": "code",
   "execution_count": 5,
   "metadata": {},
   "outputs": [
    {
     "ename": "SyntaxError",
     "evalue": "invalid character in identifier (<ipython-input-5-7ae9c803f8d0>, line 2)",
     "output_type": "error",
     "traceback": [
      "\u001b[0;36m  File \u001b[0;32m\"<ipython-input-5-7ae9c803f8d0>\"\u001b[0;36m, line \u001b[0;32m2\u001b[0m\n\u001b[0;31m    次の自由端-固定端の行列に対し，$u^TTu$ を$u_1^2$，$u_1u_2$，$u_2^2$ の線形結合として表せ．\u001b[0m\n\u001b[0m                   ^\u001b[0m\n\u001b[0;31mSyntaxError\u001b[0m\u001b[0;31m:\u001b[0m invalid character in identifier\n"
     ]
    }
   ],
   "source": [
    "# 1.6.1\n",
    "次の自由端-固定端の行列に対し，$u^TTu$ を$u_1^2$，$u_1u_2$，$u_2^2$ の線形結合として表せ．\n",
    "\n",
    "$$T = \\begin{pmatrix}1 & -1 \\\\ -1 & 2\\end{pmatrix}$$\n",
    "\n",
    "正定値性を証明するため，上記の答を2個の平方の和として表せ．\n",
    "\n",
    "### 解答"
   ]
  },
  {
   "cell_type": "code",
   "execution_count": 6,
   "metadata": {},
   "outputs": [
    {
     "ename": "SyntaxError",
     "evalue": "invalid syntax (<ipython-input-6-fe3183a15755>, line 1)",
     "output_type": "error",
     "traceback": [
      "\u001b[0;36m  File \u001b[0;32m\"<ipython-input-6-fe3183a15755>\"\u001b[0;36m, line \u001b[0;32m1\u001b[0m\n\u001b[0;31m    $$\u001b[0m\n\u001b[0m    ^\u001b[0m\n\u001b[0;31mSyntaxError\u001b[0m\u001b[0;31m:\u001b[0m invalid syntax\n"
     ]
    }
   ],
   "source": [
    "$$\n",
    "\\begin{align}\n",
    "u^TTu &= \\begin{pmatrix}u_1 & u_2\\end{pmatrix}\n",
    "          \\begin{pmatrix}1 & -1 \\\\ -1 & 2\\end{pmatrix}\n",
    "          \\begin{pmatrix}u_1 \\\\ u_2\\end{pmatrix}  \\\\ \\\\\n",
    "      &= u_1^2-2u_1u_2+2u_2^2 \\\\\n",
    "      &= (u_1-u_2)^2+u_2^2\n",
    "\\end{align}\n",
    "$$\n",
    "\n",
    "以上より\n",
    "$$\n",
    "\\begin{align}\n",
    "    u_1 - u_2 &= 0  \\\\\n",
    "    u_2 &= 0 \n",
    "\\end{align}\n",
    "$$\n",
    "\n",
    "を満たすとき，つまり$u_1 = u_2 = 0$ のときのみ，$u^TTu = 0$ となるため，行列$T$は正定値である．"
   ]
  },
  {
   "cell_type": "markdown",
   "metadata": {},
   "source": [
    "## 1.6.2\n",
    "$u^TKu = 4u_1^2+16u_1u_2+26u_2^2$ を2個の平方の和として表せ．それから$chol(K) = \\sqrt{D}L^T$ を求めよ．\n",
    "\n",
    "$$K = \\begin{pmatrix}4 & 8 \\\\ 8 & 26\\end{pmatrix}\n",
    "    = \\begin{pmatrix}1 & 0 \\\\ 2 & 1\\end{pmatrix}\\begin{pmatrix}4 &  \\\\  & 10\\end{pmatrix}\\begin{pmatrix}1 & 2 \\\\ 0 & 1\\end{pmatrix}\n",
    "    = (L\\sqrt{D})(\\sqrt{D}L^T)$$\n",
    "### 解答"
   ]
  },
  {
   "cell_type": "markdown",
   "metadata": {},
   "source": [
    "$$\n",
    "\\begin{align}\n",
    "u^TKu &= 4u_1^2+16u_1u_2+26u_2^2  \\\\\n",
    "      &= 4(u_1+2u_2)^2+10u_2^2\n",
    "\\end{align}\n",
    "$$\n",
    "\n",
    "$chol(K) = \\sqrt{D}L^T$であるため，\n",
    "\n",
    "$$\n",
    "\\sqrt{D} = \\begin{pmatrix}2 & 0 \\\\ 0 & \\sqrt{10}\\end{pmatrix}\n",
    "$$\n",
    "\n",
    "なので，\n",
    "\n",
    "$$\n",
    "\\begin{align}\n",
    "chol(K) &= \\begin{pmatrix}2 & 0 \\\\ 0 & \\sqrt{10}\\end{pmatrix} \\begin{pmatrix}1 & 2 \\\\ 0 & 1\\end{pmatrix} \\\\ \\\\\n",
    "        &= \\begin{pmatrix}2 & 4 \\\\ 0 & \\sqrt{10}\\end{pmatrix}\n",
    "\\end{align}\n",
    "$$"
   ]
  },
  {
   "cell_type": "markdown",
   "metadata": {},
   "source": [
    "## 1.6.3\n",
    "別のAを用いると，巡回型の2階差分の行列$C = A^TA$ を生成することができる．\n",
    "\n",
    "$$A = \\begin{pmatrix}1 & -1 & 0\\\\0 & 1 & -1\\\\-1 & 0 & 1\\end{pmatrix}$$ とすると， $$A^TA = \\begin{pmatrix}2 & -1 & -1\\\\-1 & 2 & -1\\\\-1 & -1 & 2\\end{pmatrix}$$\n",
    "\n",
    "$C = A^TA$ が半正定値に過ぎないことをAから説明できるか？ベクトル$u$をどう選べば，$Au = 0$，したがって$Cu = 0$ が成り立つか？  \n",
    "$chol(C)$ は失敗することに注意．\n",
    "### 解答"
   ]
  },
  {
   "cell_type": "markdown",
   "metadata": {},
   "source": [
    "$C$の正定値性を確認するには，定義通り$u^TCu > 0$かどうかを調べる必要がある．\n",
    "\n",
    "$$\n",
    "\\begin{align}\n",
    "u^TCu &= u^TA^TAu\n",
    "      &= (Au)^T(Au)\n",
    "\\end{align}\n",
    "$$\n",
    "\n",
    "本文中にあったように，これはベクトル$Au$の長さの2乗に過ぎない．  \n",
    "つまり負の値は取らず，0以上であることがわかるため，少なくとも半正定値であることがわかる．  \n",
    "\n",
    "本文の流れから察すると，ここでは行列$A$の列ベクトルが線形独立かどうかを考える必要がある．\n",
    "\n",
    "$$\n",
    "\\begin{align}\n",
    "A &= \\begin{pmatrix}1 & -1 & 0 \\\\ 0 & 1 & -1 \\\\ -1 & 0 & 1\\end{pmatrix}\n",
    "  &= \\begin{pmatrix}v_1 & v_2 & v_3\\end{pmatrix}\n",
    "\\end{align}\n",
    "$$\n",
    "\n",
    "とする．すると明らかに，\n",
    "\n",
    "$$\n",
    "v_1+v_2+v_3 = 0\n",
    "$$\n",
    "\n",
    "であり，線形従属である．  \n",
    "つまり$u$を以下のように設定すると，$Au = 0$であり，Aは半正定値であることがわかる．\n",
    "\n",
    "$$\n",
    "u = \\begin{pmatrix}1 \\\\ 1 \\\\ 1\\end{pmatrix}\n",
    "$$\n",
    "\n",
    "\n",
    "\n",
    "また半正定値であることは，$Au = 0$が$u = 0$以外で成り立つということである．  \n",
    "$u = 0$以外で$Au=0$が成立するかどうかは，$A$の固有値に0が含まれているかどうかと同義である．  "
   ]
  },
  {
   "cell_type": "code",
   "execution_count": 7,
   "metadata": {},
   "outputs": [
    {
     "name": "stdout",
     "output_type": "stream",
     "text": [
      "eigen values\n",
      "lamda_0:(8.88365811062e-17+0j)\n",
      "lamda_1:(1.5+0.866025403784j)\n",
      "lamda_2:(1.5-0.866025403784j)\n",
      "eigen vectors\n",
      "v_0:[-0.57735027+0.j  0.57735027+0.j  0.57735027-0.j]\n",
      "v_1:[-0.57735027+0.j  -0.28867513-0.5j -0.28867513+0.5j]\n",
      "v_2:[-0.57735027+0.j  -0.28867513+0.5j -0.28867513-0.5j]\n"
     ]
    }
   ],
   "source": [
    "A = [[1, -1, 0], [0, 1, -1],[-1, 0, 1]]\n",
    "la, v = np.linalg.eig(A)\n",
    "print('eigen values')\n",
    "for i in range(len(la)):\n",
    "    print(\"lamda_%s:%s\" % (i, la[i]))\n",
    "    \n",
    "print('eigen vectors')\n",
    "for i in range(len(v)):\n",
    "    print(\"v_%s:%s\" % (i, v[i]))"
   ]
  },
  {
   "cell_type": "markdown",
   "metadata": {},
   "source": [
    "上のように，固有値0であることは求まっているものの，なぜか固有ベクトルの計算が間違っている．  "
   ]
  },
  {
   "cell_type": "markdown",
   "metadata": {},
   "source": [
    "## 1.6.4\n",
    "ピボットのテストにより，巡回行列$C = A^TA$ が半正定値であることを確認せよ．  \n",
    "$u^TCu$ を，ピボットを係数とする2個の平方の和の形に書け(固有値が0,3,3であることは，Cが半正定値であることのもう一つの証明を与える)．\n",
    "### 解答"
   ]
  },
  {
   "cell_type": "markdown",
   "metadata": {},
   "source": [
    "上の問題の流れから行列$C$は 3 x 3として考える．まず行列$C$の$LDL^T$分解を考える．  \n",
    "\n",
    "$$\n",
    "C = \\begin{pmatrix}2 & -1 & -1 \\\\ -1 & 2 & -1 \\\\ -1 & -1 & 2\\end{pmatrix}\n",
    "  = \\begin{pmatrix}1 & 0 & 0 \\\\ -\\frac{1}{2} & 1 & 0 \\\\ -\\frac{1}{2} & -1 & 1\\end{pmatrix}\n",
    "    \\begin{pmatrix}2 & 0 & 0 \\\\ 0 & \\frac{3}{2} & 0 \\\\ 0 & 0 & 0\\end{pmatrix}\n",
    "    \\begin{pmatrix}1 & -\\frac{1}{2} & -\\frac{1}{2} \\\\ 0 & 1 & -1 \\\\ 0 & 0 & 1\\end{pmatrix}\n",
    "$$\n",
    "\n",
    "一方で$u^TCu$を計算すると，  \n",
    "\n",
    "$$\n",
    "\\begin{align}\n",
    "u^TCu = 2u_1^2+2u_2^2+2u_3^2-2u_1u_2-2u_2u_3-2u_3u_1\n",
    "\\end{align}\n",
    "$$\n",
    "\n",
    "以上より，ピボット・乗数を参考に$u^TCu$を平方完成すると，\n",
    "\n",
    "$$\n",
    "u^TCu = 2(u_1-\\frac{1}{2}u_2-\\frac{1}{2}u_3)^2+\\frac{3}{2}(u_2-u_3)^2\n",
    "$$\n",
    "\n",
    "よって$u^TCu = 0$の条件は$u_1 = u_2 = u_3$であり，1.6.3で求めた結果と一致していることがわかる．"
   ]
  },
  {
   "cell_type": "markdown",
   "metadata": {},
   "source": [
    "## 1.6.5\n",
    "$u^TCu \\geq 0$ は任意の$u_1, u_2, u_3$に対して$u_1^2+u_2^2+u_3^2 \\geq u_1u_2+u_2u_3+u_3u_1$ が成り立つことを意味する．  \n",
    "この不等式を証明するもう少し普通でない方法は，シュヴァルツの不等式$|v^Tw| \\leq ||v|| ||w||$を用いることである．\n",
    "\n",
    "$$|u_1u_2+u_2u_3+u_3u_1| \\leq \\sqrt{u_1^2+u_2^2+u_3^2} \\sqrt{u_2^2+u_3^2+u_1^2}$$\n",
    "\n",
    "統合が成り立つときの$u$は何か？また，そのような$u$に対して$u^TCu = 0$ が成り立つことを確認せよ． \n",
    "### 解答"
   ]
  },
  {
   "cell_type": "markdown",
   "metadata": {},
   "source": [
    "確かに，$u^TCu = 2(u_1^2+u_2^2+u_3^2-u_1u_2-u_2u_3-u_3u_1)$であるため，\n",
    "$u^TCu \\geq 0$は，$u_1^2+u_2^2+u_3^2 \\geq u_1u_2+u_2u_3+u_3u_1$と同値である．  \n",
    "\n",
    "ここで以下のようにベクトル$v, w$を設定する．\n",
    "\n",
    "$$\n",
    "v = \\begin{pmatrix}u_1 \\\\ u_2 \\\\ u_3\\end{pmatrix}，w = \\begin{pmatrix}u_2 \\\\ u_3 \\\\ u_1\\end{pmatrix}\n",
    "$$\n",
    "\n",
    "シュヴァルツの不等式の詳細な証明は省略する．  \n",
    "イメージとしては，ベクトルの絶対値の積と，内積の2乗の大きさを比較している感じ．  \n",
    "2つのベクトルが少しでもずれていれば，内積の方が小さくなるが，2つのベクトルが平行な場合，等式は成立する．  \n",
    "  \n",
    "参考URL(https://mathtrain.jp/schwarz)  \n",
    "  \n",
    "つまり実数$k$に対して，\n",
    "\n",
    "$$\n",
    "\\begin{align}\n",
    "u_1 &= ku_2  \\\\\n",
    "u_2 &= ku_3  \\\\\n",
    "u_3 &= ku_1\n",
    "\\end{align}\n",
    "$$\n",
    "\n",
    "上式を満たすのは$u_1 = u_2 = u_3$のときだけであり，これは1.6.3，1.6.4の結果とも一致する．"
   ]
  },
  {
   "cell_type": "markdown",
   "metadata": {},
   "source": [
    "## 1.6.6\n",
    "$b$ がどの範囲にあれば，次の行列は正定値となるか？\n",
    "\n",
    "$$K = \\begin{pmatrix}1 & b \\\\ b & 4\\end{pmatrix}$$\n",
    "\n",
    "$K$ が半正定値となる境界のbの値が2つある．これらの場合について，$u^TKu$ を1つの平方として書け．$b = 5$ の場合にピボットを求めよ．\n",
    "### 解答"
   ]
  },
  {
   "cell_type": "markdown",
   "metadata": {},
   "source": [
    "まず$u^TKu$を計算する．\n",
    "\n",
    "$$\n",
    "\\begin{align}\n",
    "u^TKu &= u_1^2+2bu_1u_2+4u_2^2 \\\\\n",
    "      &=(u_1+bu_2)^2+(4-b^2)u_2^2\n",
    "\\end{align}\n",
    "$$\n",
    "\n",
    "上のように平方完成できるため，$-2 < b < 2$のとき，$K$は正定値となる．  \n",
    "また，$K$が半正定値となる境界は$b = \\pm 2$であることがわかる．  \n",
    "このとき$u^TKu$は以下のようになる．\n",
    "\n",
    "$$\n",
    "u^TKu = (u_1\\pm2u_2)^2\n",
    "$$\n",
    "\n",
    "さらに，$b = 5$のとき，$K$を$LDL^T$分解すると，\n",
    "\n",
    "$$\n",
    "K = \\begin{pmatrix}1 & 5 \\\\ 5 & 4\\end{pmatrix}\n",
    "  = \\begin{pmatrix}1 & 0 \\\\ -5 & 1\\end{pmatrix}\n",
    "    \\begin{pmatrix}1 & 0 \\\\ 0 & -21\\end{pmatrix}\n",
    "    \\begin{pmatrix}1 & -5 \\\\ 0 & 1\\end{pmatrix}\n",
    "$$\n",
    "\n",
    "ゆえにピボットは$1, -21$であり，負のピボットが含まれているため不定値となることがわかる．  \n",
    "またこの結果は，上で求めた$b$の条件とも矛盾しない．"
   ]
  },
  {
   "cell_type": "markdown",
   "metadata": {},
   "source": [
    "## 1.6.7\n",
    "行列$K = A^TA, M = B^TB$ は正定値か ($A$と$B$の列は線形独立か)？\n",
    "\n",
    "$$A = \\begin{pmatrix}1 & 2 \\\\ 2 & 4 \\\\ 3 & 6\\end{pmatrix}，B = \\begin{pmatrix}1 & 4 \\\\ 2 & 5 \\\\ 3 & 6\\end{pmatrix}$$\n",
    "\n",
    "$u^TMu = (Bu)^T(Bu) = (u_1+4u_2)^2+(2u_1+5u_2)^2+(3u_1+6u_2^2)$ である．  \n",
    "$u^TKu = (Au)^T(Au)$ における3個の平方の和が1個の平方で書き直せることを示せ．\n",
    "### 解答"
   ]
  },
  {
   "cell_type": "markdown",
   "metadata": {},
   "source": [
    "明らかに行列$A$の列ベクトルは線形従属であり，行列$B$の列ベクトルは線形独立である．  \n",
    "ゆえに行列$A$は半正定値，行列$B$は正定値であることが予想される．  \n",
    "そこで実際に$u^TMu$と$u^TKu$を計算してみる．  \n",
    "\n",
    "$$\n",
    "\\begin{align}\n",
    "u^TMu &= (u_1+4u_2)^2+(2u_1+5u_2)^2+(3u_1+6u_2^2) \\\\\n",
    "u^TKu &= (u_1+2u_2)^2+(2u_1+4u_2)^2+(3u_1+6u_2^2) \\\\\n",
    "      &= (u_1+2u_2)^2+4(u_1+2u_2)^2+9(u_1+2u_2^2) \\\\\n",
    "      &= 14(u_1+2u_2)^2\n",
    "\\end{align}\n",
    "$$\n",
    "\n",
    "以上から行列$M$が正定値であり，$u_1 = -2u_2$で$u^TKu = 0$となるため，行列$K$が半正定値であることを再確認できる．"
   ]
  },
  {
   "cell_type": "markdown",
   "metadata": {},
   "source": [
    "## 1.6.8\n",
    "次の$A_1, A_2, A_3, A_4$ のうち，2個の正の固有値を持つのはどれか？　　\n",
    "$\\lambda$ を計算せずに，$a > 0$ かつ $ac > b^2$ という判定法を用いよ．$u^TA_1u < 0$ となるベクトル$u$を求めよ．\n",
    "\n",
    "$$A_1 = \\begin{pmatrix}5 & 6 \\\\ 6 & 7\\end{pmatrix}，A_2 = \\begin{pmatrix}-1 & -2 \\\\ -2 & -5\\end{pmatrix}，\n",
    "  A_3 = \\begin{pmatrix}1 & 10 \\\\ 10 & 100\\end{pmatrix}，A_4 = \\begin{pmatrix}1 & 10 \\\\ 10 & 101\\end{pmatrix}$$\n",
    "### 解答"
   ]
  },
  {
   "cell_type": "markdown",
   "metadata": {},
   "source": [
    "1.5節　固有値と固有ベクトルの内容から，  \n",
    "行列式は固有値$\\lambda$の積であるため，固有値が2つとも正であるならば行列式は正になるはずである．  \n",
    "あと考えるべきは和であり，$a > 0$というよりもトレースを考えるべきだと思うのですがどうでしょう．  \n",
    "今回はトレースで考えます．するとトレースと行列式がともに正になるのは$A_4$のみであることがわかる．\n",
    "\n",
    "また$u_TA_1u < 0$について考えると，\n",
    "\n",
    "$$\n",
    "u^TA_1u = 5u_1^2+7u_2^2+12u_1u_2 < 0\n",
    "$$\n",
    "\n",
    "つまり，(u_1, u_2)平面において$5u_1^2+7u_2^2+12u_1u_2$を満たす領域であることがわかる．\n",
    "これは双曲線関数かな？"
   ]
  },
  {
   "cell_type": "markdown",
   "metadata": {},
   "source": [
    "## 1.6.9\n",
    "次の行列は，$b$ と $c$ をどう選べば正定値となるか？\n",
    "\n",
    "$$A = \\begin{pmatrix}1 & b \\\\ b & 9\\end{pmatrix}，A = \\begin{pmatrix}2 & 4 \\\\ 4 & c\\end{pmatrix}$$\n",
    "\n",
    "ピボットの行列を$D$，定数の行列を$L$として，それぞれの$A$を$LDL^T$と分解せよ．\n",
    "### 解答"
   ]
  },
  {
   "cell_type": "markdown",
   "metadata": {},
   "source": [
    "それぞれの行列を$LDL^T$分解してみる．\n",
    "\n",
    "$$\n",
    "A = \\begin{pmatrix}1 & b \\\\ b & 9\\end{pmatrix}\n",
    "  = \\begin{pmatrix}1 & 0 \\\\ b & 1\\end{pmatrix}\n",
    "    \\begin{pmatrix}1 & 0 \\\\ 0 & 9-b^2\\end{pmatrix}\n",
    "    \\begin{pmatrix}1 & b \\\\ 0 & 1\\end{pmatrix}\n",
    "$$\n",
    "\n",
    "ピボットの値は，平方完成したときに平方の係数となるため，正定値であるためにはピボット全て正である必要がある．  \n",
    "よってこの行列$A$の場合，$9-b^2 > 0$が条件となり，つまり$-3 < b < 3$のとき$A$は正定値となる．  \n",
    "  \n",
    "同様に2つ目の$A$に対しても計算をすると，\n",
    "\n",
    "$$\n",
    "A = \\begin{pmatrix}2 & 4 \\\\ 4 & c\\end{pmatrix}\n",
    "  = \\begin{pmatrix}1 & 0 \\\\ 2 & 1\\end{pmatrix}\n",
    "    \\begin{pmatrix}2 & 0 \\\\ 0 & c-8\\end{pmatrix}\n",
    "    \\begin{pmatrix}1 & 2 \\\\ 0 & 1\\end{pmatrix}\n",
    "$$\n",
    "\n",
    "以上より，2つ目の行列$A$が正定値であるためには，$c-8 > 0$，つまり$c > 8$である必要がある．"
   ]
  },
  {
   "cell_type": "markdown",
   "metadata": {},
   "source": [
    "## 1.6.10\n",
    "関数 $f(x, y) = x^2+4xy+3y^2$ は，係数が正であるが，点$(0, 0)$ で最小値を持たないことを示せ．  \n",
    "$f$ を平方の差として表し，$f$ が負となる点$(x, y)$ を見つけよ．\n",
    "### 解答"
   ]
  },
  {
   "cell_type": "markdown",
   "metadata": {},
   "source": [
    "$u = \\begin{pmatrix}x & y\\end{pmatrix}^T$とし，$u^TAu$の形に書き直すと，\n",
    "\n",
    "$$\n",
    "f(x, y) = \\begin{pmatrix}x & y\\end{pmatrix}\n",
    "          \\begin{pmatrix}1 & 2 \\\\ 2 & 3\\end{pmatrix}\n",
    "          \\begin{pmatrix}x \\\\ y\\end{pmatrix}\n",
    "$$\n",
    "\n",
    "上で見てきたように，ここから$f(x, y)$の正定値性を確認する方法はいろいろあるが，ここでは1.6.9のようにピボットによって確認することにする．  \n",
    "行列$A$を$LDL^T$分解すると，\n",
    "\n",
    "$$\n",
    "A = \\begin{pmatrix}1 & 2 \\\\ 2 & 3\\end{pmatrix}\n",
    "  = \\begin{pmatrix}1 & 0 \\\\ 2 & 1\\end{pmatrix}\n",
    "    \\begin{pmatrix}1 & 0 \\\\ 0 & -1\\end{pmatrix}\n",
    "    \\begin{pmatrix}1 & 2 \\\\ 0 & 1\\end{pmatrix}\n",
    "$$\n",
    "\n",
    "ゆえに，$u^TAu = (x+2y)^2-y^2$と書け，行列$A$は不定値であり，$(0, 0)$で最小値を持たないことがわかる．  \n",
    "つまり，$x+2y = 0$を満たすとき，$u^TAu \\leq 0$となることは明らかである．"
   ]
  },
  {
   "cell_type": "markdown",
   "metadata": {},
   "source": [
    "## 1.6.11\n",
    "関数 $f(x, y) = 2xy$ は明らかに点$(0, 0)$で鞍点を持ち，最小値は持たない．この$f$ を生成する対称行列$S$ を求めよ．その固有値は何か？\n",
    "### 解答"
   ]
  },
  {
   "cell_type": "markdown",
   "metadata": {},
   "source": [
    "1.6.10と同様に$u = \\begin{pmatrix}x & y\\end{pmatrix}^T$とし，$u^TAu$の形に書き直すと，\n",
    "\n",
    "$$\n",
    "f(x, y) = \\begin{pmatrix}x & y\\end{pmatrix}\n",
    "          \\begin{pmatrix}0 & 1 \\\\ 1 & 0\\end{pmatrix}\n",
    "          \\begin{pmatrix}x \\\\ y\\end{pmatrix}\n",
    "$$\n",
    "\n",
    "ゆえに対称行列$S$は，\n",
    "\n",
    "$$\n",
    "S = \\begin{pmatrix}0 & 1 \\\\ 1 & 0\\end{pmatrix}\n",
    "$$"
   ]
  },
  {
   "cell_type": "code",
   "execution_count": 8,
   "metadata": {},
   "outputs": [
    {
     "name": "stdout",
     "output_type": "stream",
     "text": [
      "eigen values\n",
      "lamda_0:1.0\n",
      "lamda_1:-1.0\n",
      "eigen vectors\n",
      "v_0:[ 0.70710678 -0.70710678]\n",
      "v_1:[ 0.70710678  0.70710678]\n"
     ]
    }
   ],
   "source": [
    "S = [[0, 1], [1, 0]]\n",
    "la, v = np.linalg.eig(S)\n",
    "print('eigen values')\n",
    "for i in range(len(la)):\n",
    "    print(\"lamda_%s:%s\" % (i, la[i]))\n",
    "    \n",
    "print('eigen vectors')\n",
    "for i in range(len(v)):\n",
    "    print(\"v_%s:%s\" % (i, v[i]))"
   ]
  },
  {
   "cell_type": "markdown",
   "metadata": {},
   "source": [
    "##### 固有ベクトル逆じゃない？？"
   ]
  },
  {
   "cell_type": "markdown",
   "metadata": {},
   "source": [
    "以上の計算から行列$S$の固有値は，$\\lambda = \\pm1$であり，  \n",
    "$\\lambda = 1$のとき，固有ベクトルは$v_1 = \\begin{pmatrix}1/\\sqrt{2} & 1/\\sqrt{2}\\end{pmatrix}^T$   \n",
    "$\\lambda = -1$のとき，固有ベクトルは$v_2 = \\begin{pmatrix}1/\\sqrt{2} & -1/\\sqrt{2}\\end{pmatrix}^T$   \n",
    "  \n",
    "つまり$f(x, y) = 1((x+y)/\\sqrt{2})^2-1((x-y)/\\sqrt{2})^2$  \n",
    "よって負の平方和が含まれているため，最小値は存在しないことがわかる．"
   ]
  },
  {
   "cell_type": "markdown",
   "metadata": {},
   "source": [
    "## 1.6.12\n",
    "次のそれぞれの行列$A$ について，列ベクトルを調べ，$A^TA$ が正定値となるかどうかを判定せよ．\n",
    "\n",
    "$$A = \\begin{pmatrix}1 & 2 \\\\ 0 & 3\\end{pmatrix}，A = \\begin{pmatrix}1 & 1 \\\\ 1 & 2 \\\\ 2 & 1\\end{pmatrix}，\n",
    "  A = \\begin{pmatrix}1 & 1 & 2 \\\\ 1 & 2 & 1\\end{pmatrix}$$\n",
    "### 解答"
   ]
  },
  {
   "cell_type": "markdown",
   "metadata": {
    "collapsed": true
   },
   "source": [
    "正定値かどうかは，$u^T(A^TA)u$を調べる必要がある．  \n",
    "しかし$u^T(A^TA)u = (Au)^TAu$であるため，$u \\neq 0$において$Au > 0$であれば，正定値であることがわかる．  \n",
    "つまり正定値性の判定をするには，Aの固有値に0が含まれていないかどうかを確認することや，  \n",
    "行列$A$の列ベクトルが線形独立かどうかを調べることが考えられる．\n",
    "\n",
    "ここでは列ベクトルの線形独立性から考える．  \n",
    "\n",
    "まず$A = \\begin{pmatrix}1 & 2 \\\\ 0 & 3\\end{pmatrix}$から考える．  \n",
    "明らかにこの行列の列ベクトルは線形独立であり，$A^TA$は正定値であると考えられる．試しに$u^TA^TAu$を確認してみると，\n",
    "\n",
    "$$\n",
    "\\begin{align}\n",
    "u^TA^TAu &= u_1^2+4u_1u_2+13u_2^2 \\\\\n",
    "         &= (u_1+2u_2)^2+9u_2^2\n",
    "\\end{align}\n",
    "$$\n",
    "\n",
    "この結果から，確かに$A^TA$は正定値であることが確認できた．  \n",
    "  \n",
    "同様に$A = \\begin{pmatrix}1 & 1 \\\\ 1 & 2 \\\\ 2 & 1\\end{pmatrix}$も列ベクトルは線形独立であるため，正定値であると考えられる．  \n",
    "今回試しにピボットを用いて確認をしてみると，  \n",
    "\n",
    "$$\n",
    "A^TA = \\begin{pmatrix}6 & 5 \\\\ 5 & 6\\end{pmatrix}\n",
    "     = \\begin{pmatrix}1 & 0 \\\\ 5/6 & 1\\end{pmatrix}\n",
    "       \\begin{pmatrix}6 & 0 \\\\ 0 & 11/6\\end{pmatrix}\n",
    "       \\begin{pmatrix}1 & 5/6 \\\\ 0 & 1\\end{pmatrix}\n",
    "$$\n",
    "\n",
    "よって，2つのピボットが共に正であることから$A^TA$は正定値であることがわかる．  \n",
    "  \n",
    "一方で$A = \\begin{pmatrix}1 & 1 & 2 \\\\ 1 & 2 & 1\\end{pmatrix}$は，要素数2に対して列ベクトルが3であるため，明らかに線形従属である．  \n",
    "よって，行列$A^TA$は半正定値となると考えられる．  \n",
    "今回は$A^TA$の固有値を調べることで正定値性を確認してみると，  \n",
    "\n",
    "$$\n",
    "A^TA = \\begin{pmatrix}2 & 3 & 3 \\\\ 3 & 5 & 4 \\\\ 3 & 4 & 5\\end{pmatrix}\n",
    "$$\n",
    "\n",
    "この固有値を調べると，$\\lambda = 0, 1, 11$であり，$u = 0$以外にも$A^TAu = 0$を満たすベクトルが存在しており，半正定値であることがわかる．"
   ]
  },
  {
   "cell_type": "markdown",
   "metadata": {},
   "source": [
    "## 1.6.13\n",
    "次の式を満たす 3x3 行列$S$を求め，そのピボット，階数，固有値，行列式を計算せよ．\n",
    "\n",
    "$$\\begin{pmatrix}x_1 & x_2 & x_3\\end{pmatrix} \\begin{pmatrix}&&\\\\&S&\\\\&&\\end{pmatrix} \n",
    "  \\begin{pmatrix}x_1\\\\x_2\\\\x_3\\end{pmatrix} = 4(x_1-x_2+2x_3)^2$$\n",
    "### 解答"
   ]
  },
  {
   "cell_type": "markdown",
   "metadata": {},
   "source": [
    "$$\n",
    "4(x_1-x_2+2x_3)^2 = 4x_1^2+4x_2^2+16x_3^3-8x_1x_2-16x_2x_3+16x_3x_1\n",
    "$$\n",
    "\n",
    "これから$S$を予想すると\n",
    "\n",
    "$$\n",
    "S = \\begin{pmatrix}4 & -4 & 8 \\\\ -4 & 4 & -8 \\\\ 8 & -8 & 16\\end{pmatrix}\n",
    "$$\n",
    "\n",
    "この行列$S$を$LDL^T$分解すると，\n",
    "\n",
    "$$\n",
    "S = \\begin{pmatrix}4 & -4 & 8 \\\\ -4 & 4 & -8 \\\\ 8 & -8 & 16\\end{pmatrix}\n",
    "  = \\begin{pmatrix}1 & 0 & 0 \\\\ -1 & 1 & 0 \\\\ 2 & 0 & 1\\end{pmatrix}\n",
    "    \\begin{pmatrix}4 & 0 & 0 \\\\ 0 & 0 & 0 \\\\ 0 & 0 & 0\\end{pmatrix}\n",
    "    \\begin{pmatrix}1 & -1 & 2 \\\\ 0 & 1 & 0 \\\\ 0 & 0 & 1\\end{pmatrix}\n",
    "$$\n",
    "\n",
    "つまり，ピボットは$4, 0$であり，階級は1であることがわかる．\n",
    "\n",
    "また固有値を調べると$\\lambda = 0(重解)，24$である．  \n",
    "1.5節の内容から考えると，行列式 = 固有値の積であるから，行列式は0であると予想される．  \n",
    "実際に計算をしてみても，行列式は0である．"
   ]
  },
  {
   "cell_type": "markdown",
   "metadata": {},
   "source": [
    "## 1.6.14\n",
    "以下の関数 $f = x^TSx$ を生成する 3x3 の対称行列$S$ は何か？  \n",
    "最初の行列は正定値であり，2番目の行列はそうでないのはなぜか？\n",
    "\n",
    "(a)  $f = 2(x_1^2+x_2^2+x_3^2-x_1x_2-x_2x_3)$  \n",
    "\n",
    "(b)  $f = 2(x_1^2+x_2^2+x_3^2-x_1x_2-x_1x_3-x_2x_3)$\n",
    "\n",
    "### 解答"
   ]
  },
  {
   "cell_type": "markdown",
   "metadata": {},
   "source": [
    "上の問題と同様に対称行列$S$を求めると，  \n",
    "(a)\n",
    "$$\n",
    "S = \\begin{pmatrix}2 & -1 & 0 \\\\ -1 & 2 & -1 \\\\ 0 & -1 & 2\\end{pmatrix}\n",
    "$$\n",
    "\n",
    "(b)\n",
    "$$\n",
    "S = \\begin{pmatrix}2 & -1 & -1 \\\\ -1 & 2 & -1 \\\\ -1 & -1 & 2\\end{pmatrix}\n",
    "$$\n",
    "\n",
    "(a)のときの$S$は今まで行列$K$として扱ってきた行列であり，一方で(b)における$S$は$C$として扱ってきた行列である．"
   ]
  },
  {
   "cell_type": "markdown",
   "metadata": {},
   "source": [
    "#### なぜ最初の行列は正定値であり，2番目の行列は正定値でないか．"
   ]
  },
  {
   "cell_type": "markdown",
   "metadata": {},
   "source": [
    "## 1.6.15\n",
    "次の行列$A, B$ は，$c$ と $d$ をどう選べば正定値になるか？  \n",
    "それぞれの行列について，3個の左上の小行列式(1 x 1, 2 x 2, 3 x 3) を計算してみよ．\n",
    "\n",
    "$$A = \\begin{pmatrix}c & 1 & 1 \\\\ 1 & c & 1 \\\\ 1 & 1 & c\\end{pmatrix}，\n",
    "  B = \\begin{pmatrix}1 & 2 & 3 \\\\ 2 & d & 4 \\\\ 3 & 4 & 5\\end{pmatrix}$$\n",
    "### 解答"
   ]
  },
  {
   "cell_type": "markdown",
   "metadata": {},
   "source": [
    "まず行列$A$のピボット行列$D$を求める．  \n",
    "\n",
    "$$\n",
    "D = \\begin{pmatrix}1 & 0 & 0 \\\\ -1/c & 1 & 0 \\\\ -1/(c+1) & -1/(c+1) & 1\\end{pmatrix}\n",
    "    \\begin{pmatrix}c & 1 & 1 \\\\ 1 & c & 1 \\\\ 1 & 1 & c\\end{pmatrix}\n",
    "    \\begin{pmatrix}1 & -1/c & -1/(c+1) \\\\ 0 & 1 & -1/(c+1) \\\\ 0 & 0 & 1\\end{pmatrix}\n",
    "  = \\begin{pmatrix}c & 0 & 0 \\\\ 0 & (c^2-1)/c & 0 \\\\ 0 & 0 & (c^2+c-2)/(c+1)\\end{pmatrix}\n",
    "$$\n",
    "\n",
    "$A$が正定値であるためには，全てのピボットが正である必要がある．つまり，  \n",
    "\n",
    "$$\n",
    "c > 0 \\\\\n",
    "c^2-1 > 0 \\\\\n",
    "c^2+c-2 > 0\n",
    "$$\n",
    "\n",
    "以上の条件を整理すると，  \n",
    "\n",
    "$$\n",
    "c > 0 \\\\\n",
    "c < -1　または　c > 1 \\\\\n",
    "c < -2　または　c > 1\n",
    "$$\n",
    "\n",
    "ゆえに$c > 1$のとき，行列$A$は正定値となる．  \n",
    "  \n",
    "行列$B$に対しても同様に行列$D$を求めると，\n",
    "\n",
    "$$\n",
    "D = \\begin{pmatrix}1 & 0 & 0 \\\\ -2 & 1 & 0 \\\\ -(3d-8)/(d-4) & 2/(d-4) & 1\\end{pmatrix}\n",
    "    \\begin{pmatrix}1 & 2 & 3 \\\\ 2 & d & 4 \\\\ 3 & 4 & 5\\end{pmatrix} \n",
    "    \\begin{pmatrix}1 & -2 & -(3d-8)/(d-4) \\\\ 0 & 1 & 2/(d-4) \\\\ 0 & 0 & 1\\end{pmatrix}\n",
    "  = \\begin{pmatrix}1 & 0 & 0 \\\\ 0 & d-4 & 0 \\\\ 0 & 0 & -(4d-12)/(d-4)\\end{pmatrix}\n",
    "$$\n",
    "\n",
    "ゆえに，\n",
    "\n",
    "$$\n",
    "d - 4 > 0 \\\\\n",
    "4d -12 < 0\n",
    "$$\n",
    "\n",
    "であり，いかなる$d$に対しても行列$B$は正定値にならないと考えられる．\n",
    "\n",
    "また要求されたため，首座小行列の計算もしてみる．  \n",
    "\n",
    "行列$A$の場合は，  \n",
    "\n",
    "$$\n",
    "\\begin{align}\n",
    "1 \\times 1 &: c \\\\\n",
    "2 \\times 2 &: c^2 -1 \\\\\n",
    "3 \\times 3 &: c^3-3c+2 = (c-1)(c^2+c-2) \\\\\n",
    "\\end{align}\n",
    "$$\n",
    "\n",
    "つまりこの条件は，ピボットによる計算と一致する．最初からこれでやればよかった．  \n",
    "\n",
    "行列$B$に対しても同様に，  \n",
    "\n",
    "$$\n",
    "\\begin{align}\n",
    "1 \\times 1 &: 1 \\\\\n",
    "2 \\times 2 &: d-4 \\\\\n",
    "3 \\times 3 &: -4d+12 \\\\\n",
    "\\end{align}\n",
    "$$\n",
    "\n",
    "この条件もピボットによる計算と一致していることがわかる．"
   ]
  },
  {
   "cell_type": "markdown",
   "metadata": {},
   "source": [
    "## 1.6.16\n",
    "$A$ が正定値ならば，$A^{-1}$ も正定値である．最良の証明は次の通り：  \n",
    "\n",
    "$A^{-1}$ の固有値は正である．なぜなら......  \n",
    "\n",
    "もう一つの証明 (2 x 2行列の場合のみ簡単に適用できる)：  \n",
    "\n",
    "$A^{-1} = \\frac{1}{ac-b^2}\\begin{pmatrix}c & -b \\\\ -b & a\\end{pmatrix}$ の要素は少行列式によるテストをパスする．なぜなら....\n",
    "### 解答"
   ]
  },
  {
   "cell_type": "markdown",
   "metadata": {},
   "source": [
    "行列$A$が正定値であることから，行列$A$の持つ固有値は全て正である．\n",
    "一方で1.5節で見てきたように，行列$A$が固有値$\\lambda_1, \\lambda_2, ... , \\lambda_n$を持つとき，  \n",
    "逆行列$A^{-1}$の固有値は$1/\\lambda_1, 1/\\lambda_2, ... , 1/\\lambda_n$である．  \n",
    "つまり逆行列$A^{-1}$の固有値も全て正になるため，$A^{-1}$も正定値であることがわかる．  \n",
    "  \n",
    "  \n",
    "一方2 x 2行列の場合，より簡単に証明できる．  \n",
    "まず行列$A$を以下のように設定する．  \n",
    "\n",
    "$$\n",
    "A = \\begin{pmatrix}a & b \\\\ b & c\\end{pmatrix}\n",
    "$$\n",
    "\n",
    "すると$A^{-1}$は問題文のように求めることができる．\n",
    "\n",
    "$$\n",
    "A^{-1} = \\frac{1}{ac-b^2}\\begin{pmatrix}c & -b \\\\ -b & a\\end{pmatrix}\n",
    "$$\n",
    "\n",
    "次に行列$A$が正定値であることから求まる条件を考える．正定値とはゼロベクトルでない，いかなる$u$に対しても，$u^TAu > 0$であることであった．  \n",
    "そこで$u = \\begin{pmatrix}u_1 & u_2\\end{pmatrix}^T$とし，$u^TAu$を考えると，  \n",
    "\n",
    "$$\n",
    "\\begin{align}\n",
    "u^TAu &= au_1^2-2bu_1u_2+cu_2^2 \\\\\n",
    "      &= c(u_2-\\frac{b}{c}u_1)^2+\\frac{ac-b^2}{c}u_1^2\n",
    "\\end{align}\n",
    "$$\n",
    "\n",
    "よって$u^TAu > 0$を満たすためには，$c > 0$かつ$ac-b^2 > 0$である必要がある．  \n",
    "この2つの条件は，$A^{-1}$の首座小行列式が正であることを表している．  \n",
    "ゆえに，$A^{-1}$の要素は少行列式によるテストをパスし，正定値であることが証明された．"
   ]
  },
  {
   "cell_type": "markdown",
   "metadata": {},
   "source": [
    "## 1.6.17\n",
    "正定値行列は対角にゼロ (あるいはもっと悪く負の値) を持つことができない．次の行列は$u^TAu > 0$ というテストをパスしないことを示せ．\n",
    "\n",
    "$$\\begin{pmatrix}u_1 & u_2 & u_3\\end{pmatrix} \n",
    "   \\begin{pmatrix}4 & 1 & 1 \\\\ 1 & 0 & 2 \\\\ 1 & 2 & 5\\end{pmatrix}\n",
    "   \\begin{pmatrix}u_1 \\\\ u_2 \\\\ u_3\\end{pmatrix} \n",
    "$$\n",
    "\n",
    "上の行列積は$(u_1, u_2, u_3) = ( , , )$ のとき正でない．\n",
    "\n",
    "### 解答"
   ]
  },
  {
   "cell_type": "markdown",
   "metadata": {},
   "source": [
    "$u = \\begin{pmatrix}u_1 & u_2 & u_3\\end{pmatrix}^T$とし，$u^TAu$を調べてみる．  \n",
    "\n",
    "$$\n",
    "\\begin{align}\n",
    "u^TAu &= 4u_1^2+0u_2^2+5u_3^2+2u_1u_2+4u_2u_3+2u_3u_1 \\\\\n",
    "\\end{align}\n",
    "$$\n",
    "\n",
    "平方完成が面倒なので，そのためにまずこの行列$A$を$LDL^T$分解すると，\n",
    "\n",
    "$$\n",
    "A  = \\begin{pmatrix}1 & 0 & 0 \\\\ 1/4 & 1 & 0 \\\\ 1/4 & -7 & 1\\end{pmatrix}\n",
    "     \\begin{pmatrix}4 & 0 & 0 \\\\ 0 & -1/4 & 0 \\\\ 0 & 0 & 17\\end{pmatrix}\n",
    "     \\begin{pmatrix}1 & 1/4 & 1/4 \\\\ 0 & 1 & -7 \\\\ 0 & 0 & 1\\end{pmatrix}\n",
    "$$\n",
    "\n",
    "よって，\n",
    "\n",
    "$$\n",
    "\\begin{align}\n",
    "u^TAu &= \\begin{pmatrix}u_1 & u_2 & u_3 \\end{pmatrix}\n",
    "         \\begin{pmatrix}1 & 0 & 0 \\\\ 1/4 & 1 & 0 \\\\ 1/4 & -7 & 1\\end{pmatrix}\n",
    "         \\begin{pmatrix}4 & 0 & 0 \\\\ 0 & -1/4 & 0 \\\\ 0 & 0 & 17\\end{pmatrix}\n",
    "         \\begin{pmatrix}1 & 1/4 & 1/4 \\\\ 0 & 1 & -7 \\\\ 0 & 0 & 1\\end{pmatrix}\n",
    "         \\begin{pmatrix}u_1 \\\\ u_2 \\\\ u_3 \\end{pmatrix} \\\\\n",
    "      &= \\begin{pmatrix}u_1+\\frac{1}{4}u_2+\\frac{1}{4}u_3 & u_2-7u_3 & u_3 \\end{pmatrix}\n",
    "         \\begin{pmatrix}4 & 0 & 0 \\\\ 0 & -1/4 & 0 \\\\ 0 & 0 & 17\\end{pmatrix}\n",
    "         \\begin{pmatrix}u_1+\\frac{1}{4}u_2+\\frac{1}{4}u_3 \\\\ u_2-7u_3 \\\\ u_3 \\end{pmatrix} \\\\\n",
    "      &= 4(u_1+\\frac{1}{4}u_2+\\frac{1}{4}u_3)^2-\\frac{1}{4}(u_2-7u_3)^2+17u_3^2\n",
    "\\end{align}\n",
    "$$\n",
    "\n",
    "以上のように平方完成できた．ここからわかるように負の2乗項が含まれているため，正定値ではない．  \n",
    "正定値とならないベクトル$u$を求めるには，正の2乗項の係数を0にするように求めれば良い．ゆえに，実変数kとして，  \n",
    "\n",
    "$$\n",
    "\\begin{pmatrix}u_1 \\\\ u_2 \\\\ u_3\\end{pmatrix} = k\\begin{pmatrix}1 \\\\ -4 \\\\ 0\\end{pmatrix}\n",
    "$$"
   ]
  },
  {
   "cell_type": "markdown",
   "metadata": {},
   "source": [
    "## 1.6.18\n",
    "対称行列の対角要素$a_{jj}$は最小固有値よりも小さくなることはできない．もしできたとすると，$A - a_{jj}I$は...の固有値を持ち，したがって正定値となる．ところが，$A - a_{jj}I$ は主対角線上にゼロを持つ．\n",
    "### 解答"
   ]
  },
  {
   "cell_type": "markdown",
   "metadata": {},
   "source": [
    "対象とする対角成分を$a_{jj}$，最小固有値を$\\lambda_{min}$とし，\n",
    "$a_{jj} < \\lambda_{min}$が成立すると仮定する．\n",
    "\n",
    "1.5節の内容から，$AB = BA$が成立する行列では，固有値の和が成立することがわかっている．  \n",
    "よって$A-a_{jj}I$の固有値は，もともとの$A$の固有値から$a_{jj}$だけ引いた値になる．\n",
    "すなわち，最小固有値は$\\lambda_{min}-a_{jj} > 0$である．  \n",
    "\n",
    "よって$A-a_{jj}I$は全て正の固有値を持つため，正定値となる．\n",
    "しかし対角成分にゼロをもつため，ピボットにはゼロが含まれてしまう．  \n",
    "そのため，$A-a_{jj}I$は半正定値となり，矛盾が生じる．"
   ]
  },
  {
   "cell_type": "markdown",
   "metadata": {},
   "source": [
    "## 1.6.19\n",
    "$K$ のすべての固有値が正ならば，(固有ベクトル$x_i$に限らず)任意のベクトル$u \\neq 0$ に対して$u^TKu > 0$であることを示せ．  \n",
    "$u$ を固有ベクトルの線形結合として表せ．\"クロス項\" $x_i^Tx_j$がすべてゼロとなるのはなぜか？\n",
    "\n",
    "$$u^TKu = (c_1x_1+..+c_nx_n)^T(c_1\\lambda_1x_1+..+c_n\\lambda_nx_n) = c_1^2\\lambda_1x_1^Tx_1+..+c_n^2\\lambda_nx_n^Tx_n > 0$$ \n",
    "### 解答"
   ]
  },
  {
   "cell_type": "markdown",
   "metadata": {},
   "source": [
    "固有値が全て正ということは正定値だから，$u^TKu > 0$になることは予想できる．\n",
    "\n",
    "行列$K$の対角化を考える．$K$の固有ベクトルを$x_1, x_2, ..., x_n$とする．\n",
    "さらに正則行列$P$を以下のように定義し，$K$を書き直すと\n",
    "\n",
    "$$\n",
    "P = \\begin{pmatrix}x_1 & x_2 & \\ldots & x_n\\end{pmatrix}\n",
    "$$\n",
    "\n",
    "$$\n",
    "K = P^{-1}\n",
    "    \\begin{pmatrix}\\lambda_1 & 0 & \\ldots & 0 \\\\\n",
    "                   0 & \\lambda_2 & \\ldots & 0 \\\\\n",
    "                   \\vdots & \\vdots & \\ddots & \\vdots \\\\\n",
    "                   0 & 0 & \\ldots & \\lambda_n\n",
    "    \\end{pmatrix}\n",
    "    P\n",
    "$$\n",
    "\n",
    "$K$を対称行列であると仮定すると，$P^{-1}=P^T$である．\n",
    "\n",
    "$u^TKu$を計算すると，\n",
    "$u=\\begin{pmatrix}c_1 & c_2 & \\ldots & c_n\\end{pmatrix}^T$とすると，\n",
    "$$\n",
    "\\begin{align}\n",
    "u^TKu &= u^TP^T\\Lambda Pu \\\\\n",
    "      &= \\begin{pmatrix}c_1x_1 & c_2x_2 & \\ldots & c_nx_n\\end{pmatrix}\n",
    "         \\begin{pmatrix}\\lambda_1 & 0 & \\ldots & 0 \\\\\n",
    "                   0 & \\lambda_2 & \\ldots & 0 \\\\\n",
    "                   \\vdots & \\vdots & \\ddots & \\vdots \\\\\n",
    "                   0 & 0 & \\ldots & \\lambda_n\\end{pmatrix}\n",
    "         \\begin{pmatrix}c_1x_1 \\\\ c_2x_2 \\\\ \\ldots \\\\ c_nx_n\\end{pmatrix} \\\\\n",
    "      &= c_1^2\\lambda_1x_1^Tx_1+..+c_n^2\\lambda_nx_n^Tx_n > 0\n",
    "\\end{align}\n",
    "$$\n",
    "\n",
    "よってベクトル$u$によらず，$u^TKu > 0$がわかった．"
   ]
  },
  {
   "cell_type": "markdown",
   "metadata": {},
   "source": [
    "## 1.6.20\n",
    "$A = \\begin{pmatrix}\\cos\\theta & -\\sin\\theta \\\\ \\sin\\theta & \\cos\\theta\\end{pmatrix}\n",
    "     \\begin{pmatrix}2 & 0 \\\\ 0 & 5\\end{pmatrix}\n",
    "     \\begin{pmatrix}\\cos\\theta & \\sin\\theta \\\\ -\\sin\\theta & \\cos\\theta\\end{pmatrix}\n",
    "$ において，積を具体的に計算せずに次を求めよ．\n",
    "\n",
    "(a) $A$ の行列式  \n",
    "(b) $A$ の固有値  \n",
    "(c) $A$ の固有ベクトル  \n",
    "(d) $A$ が対称正定値である理由  \n",
    "### 解答"
   ]
  },
  {
   "cell_type": "markdown",
   "metadata": {},
   "source": [
    "(a)  \n",
    "行列式はそれぞれの行列式の積となる．回転行列の行列式は1であるので，\n",
    "\n",
    "$$\n",
    "det(A) = 10\n",
    "$$\n",
    "\n",
    "(b)  \n",
    "行列$A$の作用的な意味は，\"まず$-\\theta$回転させて，x軸方向に2，y軸方向に5拡大させる変換をし，$\\theta$回転させてもとに戻す\"ことである．\n",
    "そのため固有値も固有ベクトルも回転行列による影響はないと考えられる．\n",
    "ゆえに行列$A$の固有値は$\\lambda = 2, 5$であると考えられる． \n",
    "\n",
    "(c)  \n",
    "以上の理由から固有ベクトルは\n",
    "$$\n",
    "v_1 = \\begin{pmatrix}1 \\\\ 0\\end{pmatrix},  v_2 = \\begin{pmatrix}0 \\\\ 1\\end{pmatrix}\n",
    "$$\n",
    "\n",
    "(d)  \n",
    "$$\n",
    "R = \\begin{pmatrix}cos\\theta & sin\\theta \\\\ -sin\\theta & cos\\theta\\end{pmatrix}，D = \\begin{pmatrix}2 & 0 \\\\ 0 &　5\\end{pmatrix}\n",
    "$$\n",
    "\n",
    "とすると，$A = R^TDR$である．この行列$A$に対して，$v^TAv$を考えると\n",
    "\n",
    "$$\n",
    "v^TAv = v^TR^TDRv = (Rv)^TD(Rv)\n",
    "$$\n",
    "\n",
    "ここで行列$R$の列ベクトルは線形独立であるため$v \\neq 0$のとき，$Rv \\neq 0$である．  \n",
    "また行列$D$は明らかに正定値であるので，"
   ]
  },
  {
   "cell_type": "markdown",
   "metadata": {},
   "source": [
    "## 1.6.21\n",
    "次の$f_1(x, y) = \\frac{1}{4}x^4+x^2y+y^2$ と　$f_2(x, y) = x^3+xy-x$ について，2階微分の行列(ヘッシアン) $H_1$ および $H_2$ を求めよ．\n",
    "\n",
    "$$H = \\begin{pmatrix}\\partial^2f / \\partial x^2 & \\partial^2f / {\\partial x \\partial y} \\\\\n",
    "                     \\partial^2f / {\\partial y \\partial x} & \\partial^2f/ \\partial y^2 \\end{pmatrix}$$\n",
    "                     \n",
    "$H_1$は正定値だから，$f_1$ は凹（下に凸）である．$f_1$の最小点と$f_2$の鞍点を求めよ(1階微分がゼロとなる点を探せ)．\n",
    "\n",
    "### 解答"
   ]
  },
  {
   "cell_type": "markdown",
   "metadata": {},
   "source": [
    "言われた通りにヘッシアン$H_1$，$H_2$を求める．\n",
    "\n",
    "$$\n",
    "H_1 = \\begin{pmatrix}3x^2+2y & 2x \\\\ 2x & 2\\end{pmatrix}\n",
    "$$\n",
    "\n",
    "$$\n",
    "H_2 = \\begin{pmatrix}6x & 1 \\\\ 1 & 0\\end{pmatrix}\n",
    "$$\n",
    "\n",
    "確認は行っていないが，$H_1$は正定値らしい．そこで$f_1$の最小点と$f_2$の鞍点を探す．\n",
    "\n",
    "$$\n",
    "\\begin{align}\n",
    "\\frac{\\partial f_1}{\\partial x} &= x^3+2xy = x(x^2+2y) = 0\\\\\n",
    "\\frac{\\partial f_1}{\\partial y} &= x^2+2y = 0\n",
    "\\end{align}\n",
    "$$\n",
    "\n",
    "つまりこの条件を満たすとき，\n",
    "\n",
    "$$\n",
    "x = 0, y = 0　または　x^2+2y = 0\n",
    "$$\n",
    "\n",
    "またこのときの値は，$f_1(x,y) = 0$\n",
    "\n",
    "一方で$f_2$の鞍点を考えると，\n",
    "\n",
    "$$\n",
    "\\begin{align}\n",
    "\\frac{\\partial f_2}{\\partial x} &= 3x^2+y-1 = 0\\\\\n",
    "\\frac{\\partial f_2}{\\partial y} &= x = 0\n",
    "\\end{align}\n",
    "$$\n",
    "\n",
    "以上より，$x = 0, y = 1$のとき，$f_2$は鞍点を取り，またその値は，$f_2(0,1) = 0$である．"
   ]
  },
  {
   "cell_type": "markdown",
   "metadata": {},
   "source": [
    "## 1.6.22\n",
    "関数 $z = x^2+y^2$ のグラフは上に開いたお椀型をしている．$z = x^2-y^2$のグラフは鞍型である．$z = -x^2-y^2$のグラフは下向きのお椀型である．  \n",
    "関数$z = ax^2+2bxy+cy^2$が点$(0 ,0)$で鞍点を持つかどうかを調べるにはどうすればよいか？\n",
    "### 解答"
   ]
  },
  {
   "cell_type": "markdown",
   "metadata": {},
   "source": [
    "関数$z$は，$x = 0, y = 0$において一次微分がゼロになるため，  \n",
    "点(0,0)において，極大値を持つか，極小値を持つか，鞍点を持つかのいずれかである．  \n",
    "\n",
    "また$z = ax^2+2bxy+cy^2$を二次形式とみると，\n",
    "\n",
    "$$\n",
    "\\begin{align}\n",
    "z &= \\begin{pmatrix}x & y\\end{pmatrix}\n",
    "     \\begin{pmatrix}a & b \\\\ b & c\\end{pmatrix}\n",
    "     \\begin{pmatrix}x \\\\ y\\end{pmatrix} \\\\\n",
    "  &= u^TAu\n",
    "\\end{align}\n",
    "$$\n",
    "\n",
    "つまり，この行列$A$の正定値性を調べることで鞍点を持つかどうかを調べることができ，\n",
    "鞍点を持つときは不定値を取る．  \n",
    "\n",
    "ちなみに極小値のときは正定値となり，極大値のときは負定値である．"
   ]
  },
  {
   "cell_type": "markdown",
   "metadata": {},
   "source": [
    "## 1.6.23\n",
    "関数$z = 4x^2+12xy+cy^2$のグラフがお椀型となるのは，$c$がどんな値のときか？また，鞍点を持つのは$c$がどんな値のときか？  \n",
    "$c$がこれらの境界の値のとき，グラフはどんな形になるかを説明せよ．\n",
    "### 解答"
   ]
  },
  {
   "cell_type": "markdown",
   "metadata": {},
   "source": [
    "1.6.22と同様に考える．\n",
    "この関数も二次形式であり，1点のみで極値を持つ．\n",
    "\n",
    "$$\n",
    "z = \\begin{pmatrix}x & y\\end{pmatrix}\n",
    "    \\begin{pmatrix}4 & 6 \\\\ 6 & c\\end{pmatrix}\n",
    "    \\begin{pmatrix}x \\\\ y\\end{pmatrix} \\\\\n",
    "$$\n",
    "\n",
    "首座小行列式による判定を行うと，  \n",
    "\n",
    "$$\n",
    "\\begin{align}\n",
    "首座小行列式 (1 \\times 1) &: 4 \\\\\n",
    "首座小行列式 (2 \\times 2) &: 4c - 36 \n",
    "\\end{align}\n",
    "$$\n",
    "\n",
    "ゆえに$c > 9$のとき正定値であり，$c\\leq9$のとき半正定値となる．  \n",
    "つまり，$(x,y) = (0,0)$で鞍点を持つようになる．\n",
    "\n",
    "実際に$c=9$のときを調べてみると，  \n",
    "\n",
    "$$\n",
    "z = 4x^2+12xy+9y^2 = (2x+3y)^2\n",
    "$$\n",
    "\n",
    "つまり，$(x,y) = (0,0)$以外にも最小値を取る領域があり，直線$2x+3y=0$上で常に$z=0$となる．  \n",
    "\n",
    "実際にmatplotlibで可視化したいと思っています．時間があれば・・・"
   ]
  },
  {
   "cell_type": "code",
   "execution_count": 32,
   "metadata": {},
   "outputs": [
    {
     "data": {
      "image/png": "[encoded data removed]",
      "text/plain": [
       "<matplotlib.figure.Figure at 0x7ff894adec88>"
      ]
     },
     "metadata": {},
     "output_type": "display_data"
    }
   ],
   "source": [
    "from mpl_toolkits.mplot3d import Axes3D\n",
    "plt.close()\n",
    "N = 100\n",
    "x = np.arange(-3, 3, 1/N)\n",
    "y = np.arange(-3, 3, 1/N)\n",
    "X, Y = np.meshgrid(x, y)\n",
    "Z = np.zeros_like(X)\n",
    "for i in range(len(x)):\n",
    "    for j in range(len(y)):\n",
    "        Z[i][j] = 4*X[i][j]*X[i][j]+12*X[i][j]*Y[i][j]+9*Y[i][j]*Y[i][j]\n",
    "        \n",
    "y2 = -2*x/3\n",
    "z = np.zeros_like(y2)\n",
    "fig = plt.figure()\n",
    "ax = Axes3D(fig)\n",
    "ax.plot_wireframe(X,Y,Z)\n",
    "ax.plot(x, y2, z, color='red')\n",
    "plt.show()"
   ]
  },
  {
   "cell_type": "markdown",
   "metadata": {},
   "source": [
    "## 1.6.24\n",
    "2次関数$P(u)$について調べるもう一つの方法は次の通りである．まず，次の等式を確かめよ．\n",
    "\n",
    "$$P(u) = \\frac{1}{2}u^TKu-u^Tf　は　\\frac{1}{2}(u-K^{-1}f)^TK(u-K^{-1}f)-\\frac{1}{2}f^TK^{-1}f　に等しい．$$\n",
    "\n",
    "最後の項 $-\\frac{1}{2}f^TK^{-1}f$ は$P_{min}$ である．もう一方の(長い)項は常に...である．  \n",
    "$u = K^{-1}f$ のとき，この長い項はゼロとなり，したがって$P = P_{min}$ となる．\n",
    "### 解答"
   ]
  },
  {
   "cell_type": "markdown",
   "metadata": {},
   "source": [
    "#### この式変形がわかりません．(1.6.25も同じ)"
   ]
  },
  {
   "cell_type": "markdown",
   "metadata": {},
   "source": [
    "## 1.6.25\n",
    "$P(u) = u_1^2+u_2^2-c(u_1^2+u_2^2)^4$ について，1階微分 $f = \\partial P / \\partial u$ と2階微分の行列$H$を求めよ．  \n",
    "点 $u^0 = (1, 0)$ から始めて，ニュートン反復(21)を実行せよ．$u^1$が極小点$u^* = (0, 0)$ に近づくのは，$c$がどんな値のときか？  \n",
    "点 $(0, 0)$が大域的な最小点でないのはなぜか？\n",
    "### 解答"
   ]
  },
  {
   "cell_type": "markdown",
   "metadata": {},
   "source": [
    "教科書だけじゃよくわからなかったので，ニュートン法のアルゴリズムについて詳しく調べました．  \n",
    "\n",
    "ニュートン法において，教科書の式(20)を最小にする新たな点$u_{i+1}$を決定する必要があります．そこで$P_{cutoff}(u)$について考えると，\n",
    "\n",
    "$$\n",
    "\\begin{align}\n",
    "P_{cutoff}(u^{i+1}) &= P(u^i) + (u^{i+1}-u^i)^T \\frac{\\partial P}{\\partial u} + \\frac{1}{2} (u^{i+1}-u^i)^T H (u^{i+1}-u^i) \\\\\n",
    "              &= P(u^i) - \\frac{1}{2} (\\frac{\\partial P}{\\partial u})^T H ^{-1} \\frac{\\partial P}{\\partial u}\n",
    "                 + \\frac{1}{2} (u^{i+1}-u^i+H^{-1}p)^T H (u^{i+1}-u^i+H^{-1}p)\n",
    "\\end{align}\n",
    "$$\n",
    "\n",
    "#### この式変形どうやってるの？\n",
    "\n",
    "極小点ではヘッシアンは正定値であり，$u^{i+1}-u^i+H^{-1}p = 0$のとき最小値を取る．\n",
    "つまり，\n",
    "\n",
    "$$\n",
    "u^{i+1} = u^i - H^{-1}p\n",
    "$$\n",
    "\n",
    "これが式(21)である．わかりにくい・・・．  \n",
    "  \n",
    "  \n",
    "では本文の問題を考えてみよう．\n",
    "\n",
    "$$\n",
    "f = \\partial P / \\partial u = \\begin{pmatrix}2u_1-8cu_1(u_1^2+u_2^2)^3 & 2u_2-8cu_2(u_1^2+u_2^2)^3\\end{pmatrix}^T\n",
    "$$\n",
    "\n",
    "$$\n",
    "H= \\begin{pmatrix}2-56cu_1^2(u_1^2+u_2^2)^2-8cu_2^2(u_1^2+u_2^2)^2 & -48cu_1u_2(u_1^2+u_2^2)^2 \\\\\n",
    "                     -48cu_1u_2(u_1^2+u_2^2)^2 & 2-8cu_1^2(u_1^2+u_2^2)^2-56cu_2^2(u_1^2+u_2^2)^2\\end{pmatrix}\n",
    "$$\n",
    "                     \n",
    "そして$u^0 = (1, 0)$から開始することを考えると，\n",
    "\n",
    "$$\n",
    "\\begin{align}\n",
    "f(u^0) &= \\begin{pmatrix}2-8c & 0\\end{pmatrix}^T \\\\\n",
    "\\\\\n",
    "H &= \\begin{pmatrix}2-56c & 0 \\\\ 0 & 2-8c\\end{pmatrix}\n",
    "\\end{align}\n",
    "$$\n",
    "\n",
    "$$\n",
    "H ^ {-1} = \\frac{1}{(2-56c)(2-8c)}\\begin{pmatrix}2-8c & 0 \\\\ 0 & 2-56c\\end{pmatrix}\n",
    "$$\n",
    "\n",
    "ゆえに\n",
    "\n",
    "$$\n",
    "\\begin{align}\n",
    "u^1 &= u^0 - \\frac{1}{(2-56c)(2-8c)}\\begin{pmatrix}2-8c & 0 \\\\ 0 & 2-56c\\end{pmatrix}\\begin{pmatrix}2-8c \\\\ 0\\end{pmatrix} \\\\\n",
    "    & = \\begin{pmatrix}1 \\\\ 0\\end{pmatrix} - \\begin{pmatrix}\\frac{2-8c}{2-56c} \\\\ 0\\end{pmatrix}\n",
    "\\end{align}\n",
    "$$\n",
    "\n",
    "この$u^1$が(0,0)に近づくためには，$\\frac{2-8c}{2-56c} > 0$である必要がある．  \n",
    "この条件は$c = 1/4$のとき満たし，またこの場合変化量がゼロとなるため，(1,0)で不動となることがわかる．  \n",
    "  \n",
    "  \n",
    "(0,0)が大域的な最小値とならないのは，$P(u)$の第三項から考えて当然である．"
   ]
  },
  {
   "cell_type": "markdown",
   "metadata": {},
   "source": [
    "#### 試しに色々やってみよう"
   ]
  },
  {
   "cell_type": "code",
   "execution_count": 9,
   "metadata": {},
   "outputs": [
    {
     "name": "stdout",
     "output_type": "stream",
     "text": [
      "7\n"
     ]
    }
   ],
   "source": [
    "x = [1.0]\n",
    "y = [0.0]\n",
    "c = -3\n",
    "# c = 1\n",
    "# c = 3\n",
    "epsilon = 0.000001\n",
    "step = 100\n",
    "i = 0\n",
    "while True:\n",
    "    f = np.array([[2*x[i]-8*c*x[i]*math.pow((x[i]*x[i]+y[i]*y[i]), 3)],[2*y[i]-8*c*y[i]*math.pow((x[i]*x[i]+y[i]*y[i]),3)]])\n",
    "    H = np.array([[2-56*c*x[i]*x[i]*math.pow((x[i]*x[i]+y[i]*y[i]),2)-8*c*y[i]*y[i]*math.pow((x[i]*x[i]+y[i]*y[i]),2), -48*c*x[i]*y[i]*math.pow((x[i]*x[i]+y[i]*y[i]),2)],\n",
    "                  [-48*c*x[i]*y[i]*math.pow((x[i]*x[i]+y[i]*y[i]),2), 2-8*c*x[i]*x[i]*math.pow((x[i]*x[i]+y[i]*y[i]),2)-56*c*y[i]*y[i]*math.pow((x[i]*x[i]+y[i]*y[i]),2)]])\n",
    "    H_inv = np.linalg.inv(H)\n",
    "    u = np.array([[x[i]],[y[i]]])\n",
    "    u_new = u - np.dot(H_inv, f)\n",
    "    x.append(u_new[0][0])\n",
    "    y.append(u_new[1][0])\n",
    "    i += 1\n",
    "    if (f[0][0]*f[0][0]+f[1][0]*f[1][0]) < epsilon:\n",
    "        print(i)\n",
    "        break"
   ]
  },
  {
   "cell_type": "code",
   "execution_count": 10,
   "metadata": {},
   "outputs": [
    {
     "data": {
      "image/png": "[encoded data removed]",
      "text/plain": [
       "<matplotlib.figure.Figure at 0x7efec8040898>"
      ]
     },
     "metadata": {},
     "output_type": "display_data"
    }
   ],
   "source": [
    "t = np.linspace(0,1,len(x))\n",
    "plt.clf\n",
    "plt.scatter(x,y,c=t, cmap='jet')\n",
    "plt.colorbar()\n",
    "plt.xlim([-0.1, 1.1])\n",
    "plt.ylim([-1.1, 1.1])\n",
    "plt.show()"
   ]
  },
  {
   "cell_type": "markdown",
   "metadata": {},
   "source": [
    "## 1.6.26\n",
    "行列 $[C^{-1}　A; A^T　...]$ を半正定値にする最小の2,2ブロックは何か推測せよ．\n",
    "### 解答"
   ]
  },
  {
   "cell_type": "markdown",
   "metadata": {},
   "source": [
    "問題文の意味がわかりませんでした．"
   ]
  },
  {
   "cell_type": "markdown",
   "metadata": {},
   "source": [
    "## 1.6.27\n",
    "$H$ と $K$ を正定値とするとき，$M = \\begin{pmatrix}H & 0 \\\\ 0 & K\\end{pmatrix}$ が正定値であり，\n",
    "$N = \\begin{pmatrix}K & K \\\\ K & K\\end{pmatrix}$がそうでないのはなぜかを説明せよ．  \n",
    "$M$，$N$のピボットおよび固有値を$H$，$K$のピボットおよび固有値に関連させよ．$chol(M)$は$chol(H)$と$chol(K)$から組み立てられるか？\n",
    "### 解答"
   ]
  },
  {
   "cell_type": "markdown",
   "metadata": {},
   "source": [
    "行列$H$の大きさを$h \\times h$，行列$K$の大きさを$k \\times k$として$v^TMv$を考える．\n",
    "$$\n",
    "\\begin{align}\n",
    "vMv^T &= \\begin{pmatrix}v_1 & \\ldots & v_h & v_{h+1} & \\ldots & v_{h+k}\\end{pmatrix}\n",
    "         \\begin{pmatrix}H & 0 \\\\ 0 & K\\end{pmatrix}\n",
    "         \\begin{pmatrix}v_1 & \\ldots & v_h & v_{h+1} & \\ldots & v_{h+k}\\end{pmatrix}^T \\\\\n",
    "      &= \\begin{pmatrix}v_1 & \\ldots & v_h\\end{pmatrix}\n",
    "         H\n",
    "         \\begin{pmatrix}v_1 & \\ldots & v_h\\end{pmatrix}^T +\n",
    "         \\begin{pmatrix}v_{h+1} & \\ldots & v_{h+k}\\end{pmatrix}\n",
    "         K\n",
    "         \\begin{pmatrix}v_{h+1} & \\ldots & v_{h+k}\\end{pmatrix}^T \\\\\n",
    "      &= v_hHv_h^T + v_kKv_k^T\n",
    "\\end{align}\n",
    "$$\n",
    "\n",
    "これをエネルギーの観点からみると，正のエネルギーと正のエネルギーの和であるので，行列$M$のエネルギーも正となり，つまり行列$M$も正定値である． \n",
    "  \n",
    "でも求められていた計算はこれじゃない気がする・・・．ピボットについて考えてみます．  \n",
    "行列$M$の掃き出し操作を考えると，行列$H$と行列$K$の掃き出しがそれぞれ独立しているため，ピボットは保存され，  \n",
    "つまり行列$M$のピボットは全て正になると考えられる．  \n",
    "一方で行列$N$の掃き出し操作を考えると，計算の過程で多くの行がゼロベクトルになってしまう．  \n",
    "つまりピボットに0が含まれるようになり，正定値ではなくなる．  \n",
    "  \n",
    "行列$M$において，掃き出し操作が$H$，$K$に対して独立にできるので，  \n",
    "$chol(M)$は$chol(H)$，$chol(K)$から組み立てられると思います．"
   ]
  },
  {
   "cell_type": "markdown",
   "metadata": {},
   "source": [
    "## 1.6.28\n",
    "次の\"KKT行列\"は固有値$\\lambda_1 = 1，\\lambda_2 = 2，\\lambda_3 = -1$を持つ．したがって鞍型である．\n",
    "\n",
    "$$\\begin{pmatrix}w_1 & w_2 & u\\end{pmatrix} \n",
    "   \\begin{pmatrix}1 & 0 & -1 \\\\ 0 & 1 & 1 \\\\ -1 & 1 & 0\\end{pmatrix}\n",
    "   \\begin{pmatrix}w_1 \\\\ w_2 \\\\ u\\end{pmatrix}\n",
    "   = w_1^2+w_2^2-2uw_1+2uw_2\n",
    "$$\n",
    "\n",
    "この行列の単位固有ベクトルを平方の中に入れ，$\\lambda = 1, 2, -1$を外に出す．\n",
    "\n",
    "$$w_1^2+w_2^2-2uw_1+2uw_2 = 1(...)^2+2(...)^2-1(...)^2$$\n",
    "\n",
    "となることを確認せよ．\n",
    "\n",
    "最初の括弧の中には固有ベクトル$(1, -1, 0)/\\sqrt{2}$からの$(w_1-w_2)/\\sqrt{2}$が入る．これは，$LDL^T$の代わりに$Q\\Lambda Q^T$を使っていることになる．  \n",
    "その結果再び，2個の平方ひく1個の平方という結果が得られる．\n",
    "### 解答"
   ]
  },
  {
   "cell_type": "markdown",
   "metadata": {},
   "source": [
    "それぞれ固有ベクトルを求めると，  \n",
    "$$\n",
    "\\begin{align}\n",
    "v(\\lambda=1) &= \\frac{1}{\\sqrt{2}}\\begin{pmatrix}1 & 1 & 0\\end{pmatrix}^T \\\\\n",
    "v(\\lambda=2) &= \\frac{1}{\\sqrt{3}}\\begin{pmatrix}1 & -1 & -1\\end{pmatrix}^T \\\\\n",
    "v(\\lambda=-1) &= \\frac{1}{\\sqrt{6}}\\begin{pmatrix}1 & -1 & 2\\end{pmatrix}^T \\\\\n",
    "\\end{align}\n",
    "$$\n",
    "\n",
    "ゆえに$w_1^2+w_2^2-2uw_1+2uw_2$を平方完成すると\n",
    "\n",
    "$$\n",
    "w_1^2+w_2^2-2uw_1+2uw_2 = 1((w_1+w_2)/\\sqrt{2})^2 + 2((w_1-w_2-u)/\\sqrt{3})^2 -1((w_1-w_2+2u)/\\sqrt{6})^2\n",
    "$$\n",
    "\n",
    "ここで重要なのは，固有値を用いて平方完成できることではなくて(この話は上でもあった)，急に出てきた\"KKT行列\"って何かって話だと思います．  \n",
    "時間があったら調べます．"
   ]
  },
  {
   "cell_type": "markdown",
   "metadata": {},
   "source": [
    "#### KKT行列って？\n",
    "調べたらそれっぽいことやっている人いました．  \n",
    "参考URL(http://myenigma.hatenablog.com/entry/2017/01/14/072805)  \n",
    "\n",
    "KKT行列とはKarush-Kuhn-Tucker行列の略のようで，\n",
    "なんらかの最適化をやるときに出てくる行列みたいです．  \n",
    "最適化ということは何か関数値を最小化(最大化)したい場合だと思います．  \n",
    "そのため，正定値かどうかが重要になってくるのでしょうか．"
   ]
  },
  {
   "cell_type": "markdown",
   "metadata": {},
   "source": [
    "## 1.6.29\n",
    "(重要)KKT行列の3つのピボットを求めよ．ピボットの積は固有値の積に等しいことを確認せよ(これはまた行列式とも等しい)．次にピボットを平方の外に出せ．\n",
    "\n",
    "$$w_1^2+w_2^2-2uw_1+2uw_2 = 1(w_1-u)^2+1(w_2-u)^2-2(...)^2$$\n",
    "### 解答"
   ]
  },
  {
   "cell_type": "markdown",
   "metadata": {},
   "source": [
    "$$\n",
    "KKT = \\begin{pmatrix}1 & 0 & -1 \\\\ 0 & 1 & 1 \\\\ -1 & 1 & 0\\end{pmatrix}\n",
    "$$\n",
    "\n",
    "上記，”KKT行列”をLDL分解すると，\n",
    "\n",
    "$$\n",
    "\\begin{pmatrix}1 & 0 & 0 \\\\ 0 & 1 & 0 \\\\ 1 & -1 & 1\\end{pmatrix}\n",
    "\\begin{pmatrix}1 & 0 & -1 \\\\ 0 & 1 & 1 \\\\ -1 & 1 & 0\\end{pmatrix}\n",
    "\\begin{pmatrix}1 & 0 & 1 \\\\ 0 & 1 & -1 \\\\ 0 & 0 & 1\\end{pmatrix}\n",
    "=  \\begin{pmatrix}1 & 0 & 0 \\\\ 0 & 1 & 0 \\\\ 0 & 0 & -2\\end{pmatrix}\n",
    "$$\n",
    "\n",
    "$$\n",
    "\\begin{pmatrix}1 & 0 & -1 \\\\ 0 & 1 & 1 \\\\ -1 & 1 & 0\\end{pmatrix}\n",
    "= \\begin{pmatrix}1 & 0 & 0 \\\\ 0 & 1 & 0 \\\\ -1 & 1 & 1\\end{pmatrix}\n",
    "  \\begin{pmatrix}1 & 0 & 0 \\\\ 0 & 1 & 0 \\\\ 0 & 0 & -2\\end{pmatrix}\n",
    "  \\begin{pmatrix}1 & 0 & -1 \\\\ 0 & 1 & 1 \\\\ 0 & 0 & 1\\end{pmatrix}\n",
    "$$\n",
    "\n",
    "つまり，ピポッドの積は固有値の積と一致していることがわかった．  \n",
    "また固有値を下のセルのように計算すると，行列式ともいっちしていることがわかる．\n",
    "さらに問題文の言うとおりにピボットを用いて平方完成すると，\n",
    "\n",
    "$$\n",
    "w_1^2+w_2^2-2uw_1+2uw_2 = 1(w_1-u)^2+1(w_2+u)^2-2u^2\n",
    "$$"
   ]
  },
  {
   "cell_type": "code",
   "execution_count": 2,
   "metadata": {},
   "outputs": [
    {
     "data": {
      "text/plain": [
       "-2.0"
      ]
     },
     "execution_count": 2,
     "metadata": {},
     "output_type": "execute_result"
    }
   ],
   "source": [
    "KKT = [[1, 0, -1], [0, 1, 1], [-1, 1, 0]]\n",
    "np.linalg.det(KKT)"
   ]
  },
  {
   "cell_type": "markdown",
   "metadata": {},
   "source": [
    "## 1.6.30\n",
    "(2012年に追加) $K$を正定値(対称)行列とする．その最後の行と列を取り除いたサイズ$n-1$の行列$L$とする．  \n",
    "ピボットまたは行列式を用いて，$L$もまた正定値となる理由を説明せよ．エネルギーに基づく定義$u^TKu > 0$を用いて，$L$が正定値となる他の理由を与えよ．  \n",
    "$v^TLv > 0$となることはどうやってわかるか？\n",
    "### 解答"
   ]
  },
  {
   "cell_type": "markdown",
   "metadata": {},
   "source": [
    "ピボットの計算を考えたら容易である．  \n",
    "行列$K$のピボットを$p_1, p_2, ..., p_n$とすると，\n",
    "$K$は正定値であるため$p_1, p_2, ..., p_n > 0$である．  \n",
    "\n",
    "ここで行列$K$から最後の行と列を取り除いた行列$L$のピボットを考えると，  \n",
    "掃き出し操作が一行（一列）減るだけなので，行列$L$のピボットは$p_1, p_2, ..., p_{n-1}$である．\n",
    "つまりこのピボットも全て正であるため，行列$L$も正定値である．  "
   ]
  },
  {
   "cell_type": "markdown",
   "metadata": {},
   "source": [
    "#### エネルギーに基づく定義から考えたら？"
   ]
  },
  {
   "cell_type": "markdown",
   "metadata": {},
   "source": [
    "## 1.6.31\n",
    "(2012年に追加)この問題では，ぶら下がりばねを表す3 x 3行列$H$を扱う．\n",
    "\n",
    "$$H = \\begin{pmatrix}2 & -1 & 0 \\\\ -1 & 2 & -1 \\\\ 0 & -1 & 1\\end{pmatrix}$$\n",
    "\n",
    "消去により，$H = LDL^T$を満たす下三角行列$L$と対称行列$D$を求めよ．  \n",
    "右下の要素$H_{33} = 1$ を$q$で置き換えるとき，$H$を半正定値に保つ最小の$q$の値は何か？\n",
    "### 解答"
   ]
  },
  {
   "cell_type": "markdown",
   "metadata": {},
   "source": [
    "$$\n",
    "H = \\begin{pmatrix}2 & -1 & 0 \\\\ -1 & 2 & -1 \\\\ 0 & -1 & 1\\end{pmatrix}\n",
    "  = \\begin{pmatrix}1 & 0 & 0 \\\\ -\\frac{1}{2} & 1 & 0 \\\\ 0 & -\\frac{2}{3} & 1\\end{pmatrix}\n",
    "    \\begin{pmatrix}2 & 0 & 0 \\\\ 0 & \\frac{3}{2} & 0 \\\\ 0 & 0 & \\frac{1}{3}\\end{pmatrix}\n",
    "    \\begin{pmatrix}1 & -\\frac{1}{2} & 0 \\\\ 0 & 1 & -\\frac{2}{3} \\\\ 0 & 0 & 1\\end{pmatrix}\n",
    "$$\n",
    "\n",
    "もし$H_{33} = q$とした場合，\n",
    "\n",
    "$$\n",
    "H = \\begin{pmatrix}2 & -1 & 0 \\\\ -1 & 2 & -1 \\\\ 0 & -1 & 1\\end{pmatrix}\n",
    "  = \\begin{pmatrix}1 & 0 & 0 \\\\ -\\frac{1}{2} & 1 & 0 \\\\ 0 & -\\frac{2}{3} & 1\\end{pmatrix}\n",
    "    \\begin{pmatrix}2 & 0 & 0 \\\\ 0 & \\frac{3}{2} & 0 \\\\ 0 & 0 & q-\\frac{2}{3}\\end{pmatrix}\n",
    "    \\begin{pmatrix}1 & -\\frac{1}{2} & 0 \\\\ 0 & 1 & -\\frac{2}{3} \\\\ 0 & 0 & 1\\end{pmatrix}\n",
    "$$\n",
    "\n",
    "半正定値となるときピボットに0が含まれるため，半正定値を保つ最小の$q$の値は，$q = \\frac{2}{3}$"
   ]
  },
  {
   "cell_type": "markdown",
   "metadata": {},
   "source": [
    "#### q = 2/3 は何を意味する？"
   ]
  }
 ],
 "metadata": {
  "kernelspec": {
   "display_name": "Python 3",
   "language": "python",
   "name": "python3"
  },
  "language_info": {
   "codemirror_mode": {
    "name": "ipython",
    "version": 3
   },
   "file_extension": ".py",
   "mimetype": "text/x-python",
   "name": "python",
   "nbconvert_exporter": "python",
   "pygments_lexer": "ipython3",
   "version": "3.6.2"
  }
 },
 "nbformat": 4,
 "nbformat_minor": 2
}
